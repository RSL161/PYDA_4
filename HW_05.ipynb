{
 "cells": [
  {
   "cell_type": "code",
   "execution_count": 25,
   "metadata": {},
   "outputs": [
    {
     "data": {
      "text/plain": [
       "array([-4999, -4998, -4997, ...,    -2,    -1,     0])"
      ]
     },
     "execution_count": 25,
     "metadata": {},
     "output_type": "execute_result"
    }
   ],
   "source": [
    "#**Задание 1**\n",
    "#Создайте numpy array с элементами от числа N до 0 (например, для N = 10 это будет array([9, 8, 7, 6, 5, 4, 3, 2, 1, 0])).\n",
    "\n",
    "import numpy as np\n",
    "def array_generator(start):\n",
    "    if start == 0:\n",
    "        return np.array( [ 0 ] )\n",
    "    elif start < 0:\n",
    "        return np.arange(start+1,1,1)\n",
    "    else:\n",
    "        return np.arange(start-1,-1,-1)\n",
    "    \n",
    "array_generator(-5000)"
   ]
  },
  {
   "cell_type": "code",
   "execution_count": 38,
   "metadata": {},
   "outputs": [
    {
     "data": {
      "text/plain": [
       "array([[9, 0, 0, 0, 0, 0, 0, 0, 0, 0],\n",
       "       [0, 8, 0, 0, 0, 0, 0, 0, 0, 0],\n",
       "       [0, 0, 7, 0, 0, 0, 0, 0, 0, 0],\n",
       "       [0, 0, 0, 6, 0, 0, 0, 0, 0, 0],\n",
       "       [0, 0, 0, 0, 5, 0, 0, 0, 0, 0],\n",
       "       [0, 0, 0, 0, 0, 4, 0, 0, 0, 0],\n",
       "       [0, 0, 0, 0, 0, 0, 3, 0, 0, 0],\n",
       "       [0, 0, 0, 0, 0, 0, 0, 2, 0, 0],\n",
       "       [0, 0, 0, 0, 0, 0, 0, 0, 1, 0],\n",
       "       [0, 0, 0, 0, 0, 0, 0, 0, 0, 0]])"
      ]
     },
     "execution_count": 38,
     "metadata": {},
     "output_type": "execute_result"
    }
   ],
   "source": [
    "#**Задание 2**\n",
    "#Создайте диагональную матрицу с элементами от N до 0. Посчитайте сумму ее значений на диагонали.\n",
    "\n",
    "x = np.diag(np.arange(9,-1,-1), k=0)\n",
    "x\n"
   ]
  },
  {
   "cell_type": "code",
   "execution_count": 35,
   "metadata": {},
   "outputs": [
    {
     "data": {
      "text/plain": [
       "45"
      ]
     },
     "execution_count": 35,
     "metadata": {},
     "output_type": "execute_result"
    }
   ],
   "source": [
    "x.sum()"
   ]
  },
  {
   "cell_type": "code",
   "execution_count": 26,
   "metadata": {},
   "outputs": [
    {
     "data": {
      "text/plain": [
       "Shawshank Redemption, The (1994)                                                     153\n",
       "Pulp Fiction (1994)                                                                  123\n",
       "Forrest Gump (1994)                                                                  116\n",
       "Matrix, The (1999)                                                                   109\n",
       "Star Wars: Episode IV - A New Hope (1977)                                            104\n",
       "Silence of the Lambs, The (1991)                                                      92\n",
       "Schindler's List (1993)                                                               92\n",
       "Godfather, The (1972)                                                                 88\n",
       "Fight Club (1999)                                                                     81\n",
       "Star Wars: Episode V - The Empire Strikes Back (1980)                                 80\n",
       "Braveheart (1995)                                                                     80\n",
       "Usual Suspects, The (1995)                                                            71\n",
       "Raiders of the Lost Ark (Indiana Jones and the Raiders of the Lost Ark) (1981)        69\n",
       "Star Wars: Episode VI - Return of the Jedi (1983)                                     65\n",
       "American Beauty (1999)                                                                65\n",
       "Terminator 2: Judgment Day (1991)                                                     64\n",
       "Lord of the Rings: The Fellowship of the Ring, The (2001)                             62\n",
       "Saving Private Ryan (1998)                                                            61\n",
       "Fargo (1996)                                                                          57\n",
       "Princess Bride, The (1987)                                                            55\n",
       "Lord of the Rings: The Return of the King, The (2003)                                 53\n",
       "Seven (a.k.a. Se7en) (1995)                                                           52\n",
       "Monty Python and the Holy Grail (1975)                                                51\n",
       "Dark Knight, The (2008)                                                               49\n",
       "Lord of the Rings: The Two Towers, The (2002)                                         49\n",
       "Back to the Future (1985)                                                             49\n",
       "Godfather: Part II, The (1974)                                                        48\n",
       "Toy Story (1995)                                                                      47\n",
       "Blade Runner (1982)                                                                   46\n",
       "Fugitive, The (1993)                                                                  46\n",
       "                                                                                    ... \n",
       "Other Sister, The (1999)                                                               1\n",
       "Harakiri (Seppuku) (1962)                                                              1\n",
       "National Lampoon's Van Wilder (2002)                                                   1\n",
       "The Adventures of Sherlock Holmes and Doctor Watson: The Treasures of Agra (1983)      1\n",
       "Beloved (1998)                                                                         1\n",
       "Triumph of the Will (Triumph des Willens) (1934)                                       1\n",
       "Colonel Chabert, Le (1994)                                                             1\n",
       "Carnage (2011)                                                                         1\n",
       "Manhunter (1986)                                                                       1\n",
       "Invictus (2009)                                                                        1\n",
       "UHF (1989)                                                                             1\n",
       "Seabiscuit (2003)                                                                      1\n",
       "Thin Man, The (1934)                                                                   1\n",
       "Steel Magnolias (1989)                                                                 1\n",
       "Ghostbusters II (1989)                                                                 1\n",
       "52 Pick-Up (1986)                                                                      1\n",
       "Two Weeks Notice (2002)                                                                1\n",
       "Dragons: Gift of the Night Fury (2011)                                                 1\n",
       "50/50 (2011)                                                                           1\n",
       "Police Academy 3: Back in Training (1986)                                              1\n",
       "Adventures in Babysitting (1987)                                                       1\n",
       "Six-String Samurai (1998)                                                              1\n",
       "How the Grinch Stole Christmas (a.k.a. The Grinch) (2000)                              1\n",
       "Ex Drummer (2007)                                                                      1\n",
       "Let It Ride (1989)                                                                     1\n",
       "I, the Jury (1982)                                                                     1\n",
       "Little Dieter Needs to Fly (1997)                                                      1\n",
       "Slumber Party Massacre III (1990)                                                      1\n",
       "Ray (2004)                                                                             1\n",
       "Out of the Past (1947)                                                                 1\n",
       "Name: title, Length: 2954, dtype: int64"
      ]
     },
     "execution_count": 26,
     "metadata": {},
     "output_type": "execute_result"
    }
   ],
   "source": [
    "#**Задание 3**\n",
    "#Скачайте с сайта https://grouplens.org/datasets/movielens/ датасет любого размера. Определите какому фильму было выставлено больше всего оценок 5.0.\n",
    "\n",
    "\n",
    "import pandas as pd\n",
    "movies_dt = pd.read_csv('movies.csv')\n",
    "ratings_dt = pd.read_csv('ratings.csv')\n",
    "\n",
    "# создаем общую таблицу Х\n",
    "x = ratings_dt.merge(movies_dt, how='inner')\n",
    "\n",
    "#фильтруем таблицу Х по оценке 5.0\n",
    "x = x[x['rating'] == 5.0]\n",
    "\n",
    "#считаем количество значений с группировкой по названию (вместо кода фильма)\n",
    "x['title'].value_counts()\n",
    "\n"
   ]
  },
  {
   "cell_type": "code",
   "execution_count": null,
   "metadata": {},
   "outputs": [],
   "source": []
  },
  {
   "cell_type": "code",
   "execution_count": 61,
   "metadata": {},
   "outputs": [
    {
     "data": {
      "text/plain": [
       "54844.0"
      ]
     },
     "execution_count": 61,
     "metadata": {},
     "output_type": "execute_result"
    }
   ],
   "source": [
    "#**Задание 4**\n",
    "#По данным файла power.csv посчитайте суммарное потребление стран Прибалтики (Латвия, Литва и Эстония) категорий 4, 12 и 21 за период с 2005 по 2010 года. \n",
    "#Не учитывайте в расчетах отрицательные значения quantity.\n",
    "\n",
    "data = pd.read_csv('power.csv')\n",
    "\n",
    "#сначала фильтруем по странам и категориям\n",
    "filtered_countries = data[((data['country'] == 'Latvia') | (data['country']=='Lithuania') | (data['country']=='Estonia'))&((data['category'] == 4) | (data['category'] == 12)| (data['category'] == 21))]\n",
    "\n",
    "#затем оставляем только нужные годы и положительные значения\n",
    "filtered_countries = filtered_countries[(filtered_countries['year'] > 2004) & (filtered_countries['year'] < 2011) & filtered_countries['quantity'] > 0]\n",
    "\n",
    "#старый знакомый груп-бай по количеству энергии, единичка позволяет обойтись без разбивки\n",
    "filtered_countries.groupby('country')['quantity'].sum()[1]"
   ]
  },
  {
   "cell_type": "code",
   "execution_count": 62,
   "metadata": {},
   "outputs": [
    {
     "data": {
      "text/plain": [
       "array([-0.33333333,  5.33333333, -0.66666667])"
      ]
     },
     "execution_count": 62,
     "metadata": {},
     "output_type": "execute_result"
    }
   ],
   "source": [
    "#**Задание 5**\n",
    "#Решите систему уравнений:\n",
    "#4x + 2y + z = 4\n",
    "#x + 3y = 12\n",
    "#5y + 4z = -3\n",
    "\n",
    "# коэффициенты при переменных в левой части уравнения\n",
    "\n",
    "a = np.array( [ [4, 1, 0], [2, 3, 5], [1, 0, 4] ] )\n",
    "\n",
    "# значения в правой части уравнения\n",
    "b = np.array( [4, 12, -3] )\n",
    "\n",
    "# и решаем\n",
    "from numpy import linalg\n",
    "linalg.solve(a, b)"
   ]
  },
  {
   "cell_type": "code",
   "execution_count": 63,
   "metadata": {},
   "outputs": [
    {
     "data": {
      "text/plain": [
       "True"
      ]
     },
     "execution_count": 63,
     "metadata": {},
     "output_type": "execute_result"
    }
   ],
   "source": [
    "# проверяем для надёжности\n",
    "np.allclose( np.dot(a, linalg.solve(a, b)), b )"
   ]
  },
  {
   "cell_type": "code",
   "execution_count": null,
   "metadata": {},
   "outputs": [],
   "source": []
  }
 ],
 "metadata": {
  "kernelspec": {
   "display_name": "Python 3",
   "language": "python",
   "name": "python3"
  },
  "language_info": {
   "codemirror_mode": {
    "name": "ipython",
    "version": 3
   },
   "file_extension": ".py",
   "mimetype": "text/x-python",
   "name": "python",
   "nbconvert_exporter": "python",
   "pygments_lexer": "ipython3",
   "version": "3.6.5"
  }
 },
 "nbformat": 4,
 "nbformat_minor": 2
}
