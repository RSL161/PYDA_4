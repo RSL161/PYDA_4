{
 "cells": [
  {
   "cell_type": "code",
   "execution_count": 1,
   "metadata": {},
   "outputs": [],
   "source": [
    "import numpy as np\n",
    "from scipy.stats import t\n",
    "from scipy.stats import norm\n",
    "import matplotlib.pyplot as plt\n",
    "from scipy import stats\n",
    "import pandas as pd\n",
    "import seaborn as sns\n",
    "import statistics\n",
    "import requests\n",
    "\n",
    "%matplotlib inline"
   ]
  },
  {
   "cell_type": "code",
   "execution_count": 2,
   "metadata": {},
   "outputs": [
    {
     "data": {
      "text/html": [
       "<div>\n",
       "<style scoped>\n",
       "    .dataframe tbody tr th:only-of-type {\n",
       "        vertical-align: middle;\n",
       "    }\n",
       "\n",
       "    .dataframe tbody tr th {\n",
       "        vertical-align: top;\n",
       "    }\n",
       "\n",
       "    .dataframe thead th {\n",
       "        text-align: right;\n",
       "    }\n",
       "</style>\n",
       "<table border=\"1\" class=\"dataframe\">\n",
       "  <thead>\n",
       "    <tr style=\"text-align: right;\">\n",
       "      <th></th>\n",
       "      <th>satisfaction_level</th>\n",
       "      <th>last_evaluation</th>\n",
       "      <th>number_project</th>\n",
       "      <th>average_montly_hours</th>\n",
       "      <th>time_spend_company</th>\n",
       "      <th>Work_accident</th>\n",
       "      <th>left</th>\n",
       "      <th>promotion_last_5years</th>\n",
       "      <th>sales</th>\n",
       "      <th>salary</th>\n",
       "    </tr>\n",
       "  </thead>\n",
       "  <tbody>\n",
       "    <tr>\n",
       "      <th>0</th>\n",
       "      <td>0.38</td>\n",
       "      <td>0.53</td>\n",
       "      <td>2</td>\n",
       "      <td>157</td>\n",
       "      <td>3</td>\n",
       "      <td>0</td>\n",
       "      <td>1</td>\n",
       "      <td>0</td>\n",
       "      <td>sales</td>\n",
       "      <td>low</td>\n",
       "    </tr>\n",
       "    <tr>\n",
       "      <th>1</th>\n",
       "      <td>0.80</td>\n",
       "      <td>0.86</td>\n",
       "      <td>5</td>\n",
       "      <td>262</td>\n",
       "      <td>6</td>\n",
       "      <td>0</td>\n",
       "      <td>1</td>\n",
       "      <td>0</td>\n",
       "      <td>sales</td>\n",
       "      <td>medium</td>\n",
       "    </tr>\n",
       "    <tr>\n",
       "      <th>2</th>\n",
       "      <td>0.11</td>\n",
       "      <td>0.88</td>\n",
       "      <td>7</td>\n",
       "      <td>272</td>\n",
       "      <td>4</td>\n",
       "      <td>0</td>\n",
       "      <td>1</td>\n",
       "      <td>0</td>\n",
       "      <td>sales</td>\n",
       "      <td>medium</td>\n",
       "    </tr>\n",
       "    <tr>\n",
       "      <th>3</th>\n",
       "      <td>0.72</td>\n",
       "      <td>0.87</td>\n",
       "      <td>5</td>\n",
       "      <td>223</td>\n",
       "      <td>5</td>\n",
       "      <td>0</td>\n",
       "      <td>1</td>\n",
       "      <td>0</td>\n",
       "      <td>sales</td>\n",
       "      <td>low</td>\n",
       "    </tr>\n",
       "    <tr>\n",
       "      <th>4</th>\n",
       "      <td>0.37</td>\n",
       "      <td>0.52</td>\n",
       "      <td>2</td>\n",
       "      <td>159</td>\n",
       "      <td>3</td>\n",
       "      <td>0</td>\n",
       "      <td>1</td>\n",
       "      <td>0</td>\n",
       "      <td>sales</td>\n",
       "      <td>low</td>\n",
       "    </tr>\n",
       "    <tr>\n",
       "      <th>5</th>\n",
       "      <td>0.41</td>\n",
       "      <td>0.50</td>\n",
       "      <td>2</td>\n",
       "      <td>153</td>\n",
       "      <td>3</td>\n",
       "      <td>0</td>\n",
       "      <td>1</td>\n",
       "      <td>0</td>\n",
       "      <td>sales</td>\n",
       "      <td>low</td>\n",
       "    </tr>\n",
       "    <tr>\n",
       "      <th>6</th>\n",
       "      <td>0.10</td>\n",
       "      <td>0.77</td>\n",
       "      <td>6</td>\n",
       "      <td>247</td>\n",
       "      <td>4</td>\n",
       "      <td>0</td>\n",
       "      <td>1</td>\n",
       "      <td>0</td>\n",
       "      <td>sales</td>\n",
       "      <td>low</td>\n",
       "    </tr>\n",
       "    <tr>\n",
       "      <th>7</th>\n",
       "      <td>0.92</td>\n",
       "      <td>0.85</td>\n",
       "      <td>5</td>\n",
       "      <td>259</td>\n",
       "      <td>5</td>\n",
       "      <td>0</td>\n",
       "      <td>1</td>\n",
       "      <td>0</td>\n",
       "      <td>sales</td>\n",
       "      <td>low</td>\n",
       "    </tr>\n",
       "    <tr>\n",
       "      <th>8</th>\n",
       "      <td>0.89</td>\n",
       "      <td>1.00</td>\n",
       "      <td>5</td>\n",
       "      <td>224</td>\n",
       "      <td>5</td>\n",
       "      <td>0</td>\n",
       "      <td>1</td>\n",
       "      <td>0</td>\n",
       "      <td>sales</td>\n",
       "      <td>low</td>\n",
       "    </tr>\n",
       "    <tr>\n",
       "      <th>9</th>\n",
       "      <td>0.42</td>\n",
       "      <td>0.53</td>\n",
       "      <td>2</td>\n",
       "      <td>142</td>\n",
       "      <td>3</td>\n",
       "      <td>0</td>\n",
       "      <td>1</td>\n",
       "      <td>0</td>\n",
       "      <td>sales</td>\n",
       "      <td>low</td>\n",
       "    </tr>\n",
       "  </tbody>\n",
       "</table>\n",
       "</div>"
      ],
      "text/plain": [
       "   satisfaction_level  last_evaluation  number_project  average_montly_hours  \\\n",
       "0                0.38             0.53               2                   157   \n",
       "1                0.80             0.86               5                   262   \n",
       "2                0.11             0.88               7                   272   \n",
       "3                0.72             0.87               5                   223   \n",
       "4                0.37             0.52               2                   159   \n",
       "5                0.41             0.50               2                   153   \n",
       "6                0.10             0.77               6                   247   \n",
       "7                0.92             0.85               5                   259   \n",
       "8                0.89             1.00               5                   224   \n",
       "9                0.42             0.53               2                   142   \n",
       "\n",
       "   time_spend_company  Work_accident  left  promotion_last_5years  sales  \\\n",
       "0                   3              0     1                      0  sales   \n",
       "1                   6              0     1                      0  sales   \n",
       "2                   4              0     1                      0  sales   \n",
       "3                   5              0     1                      0  sales   \n",
       "4                   3              0     1                      0  sales   \n",
       "5                   3              0     1                      0  sales   \n",
       "6                   4              0     1                      0  sales   \n",
       "7                   5              0     1                      0  sales   \n",
       "8                   5              0     1                      0  sales   \n",
       "9                   3              0     1                      0  sales   \n",
       "\n",
       "   salary  \n",
       "0     low  \n",
       "1  medium  \n",
       "2  medium  \n",
       "3     low  \n",
       "4     low  \n",
       "5     low  \n",
       "6     low  \n",
       "7     low  \n",
       "8     low  \n",
       "9     low  "
      ]
     },
     "execution_count": 2,
     "metadata": {},
     "output_type": "execute_result"
    }
   ],
   "source": [
    "# 1.Загрузить файл hr.csv.\n",
    "\n",
    "df=pd.read_csv('HR.csv')\n",
    "df.head(10)"
   ]
  },
  {
   "cell_type": "code",
   "execution_count": 3,
   "metadata": {},
   "outputs": [
    {
     "name": "stdout",
     "output_type": "stream",
     "text": [
      "<class 'pandas.core.frame.DataFrame'>\n",
      "RangeIndex: 14999 entries, 0 to 14998\n",
      "Data columns (total 10 columns):\n",
      "satisfaction_level       14999 non-null float64\n",
      "last_evaluation          14999 non-null float64\n",
      "number_project           14999 non-null int64\n",
      "average_montly_hours     14999 non-null int64\n",
      "time_spend_company       14999 non-null int64\n",
      "Work_accident            14999 non-null int64\n",
      "left                     14999 non-null int64\n",
      "promotion_last_5years    14999 non-null int64\n",
      "sales                    14999 non-null object\n",
      "salary                   14999 non-null object\n",
      "dtypes: float64(2), int64(6), object(2)\n",
      "memory usage: 1.1+ MB\n",
      "None\n"
     ]
    }
   ],
   "source": [
    "print(df.info())"
   ]
  },
  {
   "cell_type": "code",
   "execution_count": 4,
   "metadata": {},
   "outputs": [
    {
     "name": "stdout",
     "output_type": "stream",
     "text": [
      "Среднее значение:  0.6128335222348157\n",
      "Медиана:  0.64\n",
      "Значение моды: 0.1\n",
      "Значение максимума:  1.0\n",
      "Значение минимума:  0.09\n",
      "Количество нулевых значений в столбце равно: 0\n",
      "Значение стандартного отклонения:  0.2486223626820733\n",
      "Размах выборки:  0.91\n"
     ]
    },
    {
     "data": {
      "image/png": "[encoded data removed]",
      "text/plain": [
       "<Figure size 432x288 with 1 Axes>"
      ]
     },
     "metadata": {},
     "output_type": "display_data"
    },
    {
     "name": "stdout",
     "output_type": "stream",
     "text": [
      "Уровень удовлетворённости сотрудника, данные цифровые, непрерывные, распределение близко к равномерному\n"
     ]
    }
   ],
   "source": [
    "# 2. Рассчитать основные статистики для переменных (среднее,медиана,мода,мин/макс,сред.отклонение).\n",
    "# Столбец satisfaction_level\n",
    "\n",
    "print('Среднее значение: ', statistics.mean(df['satisfaction_level']))\n",
    "print('Медиана: ', statistics.median(df['satisfaction_level']))\n",
    "print('Значение моды:', statistics.mode(df['satisfaction_level']))\n",
    "print('Значение максимума: ', max(df['satisfaction_level']))\n",
    "print('Значение минимума: ', min(df['satisfaction_level']))\n",
    "print('Количество нулевых значений в столбце равно:', df['satisfaction_level'].isnull().sum())\n",
    "print('Значение стандартного отклонения: ', statistics.pstdev(df['satisfaction_level'].dropna()))\n",
    "print('Размах выборки: ', max(df['satisfaction_level'])-min(df['satisfaction_level']))\n",
    "\n",
    "plt.hist(df['satisfaction_level'],10)\n",
    "plt.xlabel('интервал выборки')\n",
    "plt.ylabel('количество элементов')\n",
    "plt.title('Частотный график выборки satisfaction_level')\n",
    "plt.grid(True)\n",
    "plt.show()\n",
    "\n",
    "print('Уровень удовлетворённости сотрудника, данные цифровые, непрерывные, распределение близко к равномерному')"
   ]
  },
  {
   "cell_type": "code",
   "execution_count": 5,
   "metadata": {},
   "outputs": [
    {
     "name": "stdout",
     "output_type": "stream",
     "text": [
      "Среднее значение:  0.7161017401160077\n",
      "Медиана:  0.72\n",
      "Значение моды: 0.55\n",
      "Значение максимума:  1.0\n",
      "Значение минимума:  0.36\n",
      "Количество нулевых значений в столбце равно: 0\n",
      "Значение стандартного отклонения:  0.1711634045107436\n",
      "Размах выборки:  0.64\n"
     ]
    },
    {
     "data": {
      "image/png": "[encoded data removed]",
      "text/plain": [
       "<Figure size 432x288 with 1 Axes>"
      ]
     },
     "metadata": {},
     "output_type": "display_data"
    },
    {
     "name": "stdout",
     "output_type": "stream",
     "text": [
      "Последняя оценка эффективности сотрудника, данные цифровые, непрерывные, распределение близко к равномерному\n"
     ]
    }
   ],
   "source": [
    "# Столбец \tlast_evaluation\n",
    "\n",
    "print('Среднее значение: ', statistics.mean(df['last_evaluation']))\n",
    "print('Медиана: ', statistics.median(df['last_evaluation']))\n",
    "print('Значение моды:', statistics.mode(df['last_evaluation']))\n",
    "print('Значение максимума: ', max(df['last_evaluation']))\n",
    "print('Значение минимума: ', min(df['last_evaluation']))\n",
    "print('Количество нулевых значений в столбце равно:', df['last_evaluation'].isnull().sum())\n",
    "print('Значение стандартного отклонения: ', statistics.pstdev(df['last_evaluation'].dropna()))\n",
    "print('Размах выборки: ', max(df['last_evaluation'])-min(df['last_evaluation']))\n",
    "\n",
    "plt.hist(df['last_evaluation'],10)\n",
    "plt.xlabel('интервал выборки')\n",
    "plt.ylabel('количество элементов')\n",
    "plt.title('Частотный график выборки last_evaluation')\n",
    "plt.grid(True)\n",
    "plt.show()\n",
    "\n",
    "print('Последняя оценка эффективности сотрудника, данные цифровые, непрерывные, распределение близко к равномерному')"
   ]
  },
  {
   "cell_type": "code",
   "execution_count": 6,
   "metadata": {},
   "outputs": [
    {
     "name": "stdout",
     "output_type": "stream",
     "text": [
      "Среднее значение:  3.80305353690246\n",
      "Медиана:  4\n",
      "Значение моды: 4\n",
      "Значение максимума:  7\n",
      "Значение минимума:  2\n",
      "Количество нулевых значений в столбце равно: 0\n",
      "Значение стандартного отклонения:  1.2325512654823438\n",
      "Размах выборки:  5\n"
     ]
    },
    {
     "data": {
      "image/png": "[encoded data removed]",
      "text/plain": [
       "<Figure size 432x288 with 1 Axes>"
      ]
     },
     "metadata": {},
     "output_type": "display_data"
    },
    {
     "name": "stdout",
     "output_type": "stream",
     "text": [
      "Число проектов, в которых участвовал сотрудник, данные цифровые, дискретные, целочисленные, распределение логнормальное\n"
     ]
    }
   ],
   "source": [
    "# Столбец  3\tnumber_project\n",
    "\n",
    "print('Среднее значение: ', statistics.mean(df['number_project']))\n",
    "print('Медиана: ', statistics.median(df['number_project']))\n",
    "print('Значение моды:', statistics.mode(df['number_project']))\n",
    "print('Значение максимума: ', max(df['number_project']))\n",
    "print('Значение минимума: ', min(df['number_project']))\n",
    "print('Количество нулевых значений в столбце равно:', df['number_project'].isnull().sum())\n",
    "print('Значение стандартного отклонения: ', statistics.pstdev(df['number_project'].dropna()))\n",
    "print('Размах выборки: ', max(df['number_project'])-min(df['number_project']))\n",
    "\n",
    "plt.hist(df['number_project'],6)\n",
    "plt.xlabel('интервал выборки')\n",
    "plt.ylabel('количество элементов')\n",
    "plt.title('Частотный график выборки number_project')\n",
    "plt.grid(True)\n",
    "plt.show()\n",
    "\n",
    "print('Число проектов, в которых участвовал сотрудник, данные цифровые, дискретные, целочисленные, распределение логнормальное')\n"
   ]
  },
  {
   "cell_type": "code",
   "execution_count": 7,
   "metadata": {},
   "outputs": [
    {
     "name": "stdout",
     "output_type": "stream",
     "text": [
      "Среднее значение:  201.0503366891126\n",
      "Медиана:  200\n",
      "Значение моды определеить не удалось, в распределении два наиболее часто встречающихся значения\n",
      "Значение максимума:  310\n",
      "Значение минимума:  96\n",
      "Количество нулевых значений в столбце равно: 0\n",
      "Значение стандартного отклонения:  49.94143446256218\n",
      "Размах выборки:  214\n"
     ]
    },
    {
     "data": {
      "image/png": "[encoded data removed]",
      "text/plain": [
       "<Figure size 432x288 with 1 Axes>"
      ]
     },
     "metadata": {},
     "output_type": "display_data"
    },
    {
     "name": "stdout",
     "output_type": "stream",
     "text": [
      "Среднее количество рабочих часов в месяц, данные цифровые, непрерывные, целочисленные, распределение двумодальное, немного напоминает нормальное\n"
     ]
    }
   ],
   "source": [
    "# Столбец  4\taverage_montly_hours\n",
    "\n",
    "print('Среднее значение: ', statistics.mean(df['average_montly_hours']))\n",
    "print('Медиана: ', statistics.median(df['average_montly_hours']))\n",
    "print('Значение моды определеить не удалось, в распределении два наиболее часто встречающихся значения')\n",
    "print('Значение максимума: ', max(df['average_montly_hours']))\n",
    "print('Значение минимума: ', min(df['average_montly_hours']))\n",
    "print('Количество нулевых значений в столбце равно:', df['average_montly_hours'].isnull().sum())\n",
    "print('Значение стандартного отклонения: ', statistics.pstdev(df['average_montly_hours'].dropna()))\n",
    "print('Размах выборки: ', max(df['average_montly_hours'])-min(df['average_montly_hours']))\n",
    "\n",
    "plt.hist(df['average_montly_hours'],10)\n",
    "plt.xlabel('интервал выборки')\n",
    "plt.ylabel('количество элементов')\n",
    "plt.title('Частотный график выборки average_montly_hours')\n",
    "plt.grid(True)\n",
    "plt.show()\n",
    "\n",
    "print('Среднее количество рабочих часов в месяц, данные цифровые, непрерывные, целочисленные, распределение двумодальное, немного напоминает нормальное')\n"
   ]
  },
  {
   "cell_type": "code",
   "execution_count": 8,
   "metadata": {},
   "outputs": [
    {
     "name": "stdout",
     "output_type": "stream",
     "text": [
      "Среднее значение:  3.498233215547703\n",
      "Медиана:  3\n",
      "Значение моды: 3\n",
      "Значение максимума:  10\n",
      "Значение минимума:  2\n",
      "Количество нулевых значений в столбце равно: 0\n",
      "Значение стандартного отклонения:  1.4600875552715114\n",
      "Размах выборки:  8\n"
     ]
    },
    {
     "data": {
      "image/png": "[encoded data removed]",
      "text/plain": [
       "<Figure size 432x288 with 1 Axes>"
      ]
     },
     "metadata": {},
     "output_type": "display_data"
    },
    {
     "name": "stdout",
     "output_type": "stream",
     "text": [
      "Сколько времени сотрудник поработал в компании, данные цифровые, целочисленные, дискретные, распределение геометрическое\n"
     ]
    }
   ],
   "source": [
    "# Столбец  5\ttime_spend_company\n",
    "\n",
    "print('Среднее значение: ', statistics.mean(df['time_spend_company']))\n",
    "print('Медиана: ', statistics.median(df['time_spend_company']))\n",
    "print('Значение моды:', statistics.mode(df['time_spend_company']))\n",
    "print('Значение максимума: ', max(df['time_spend_company']))\n",
    "print('Значение минимума: ', min(df['time_spend_company']))\n",
    "print('Количество нулевых значений в столбце равно:', df['time_spend_company'].isnull().sum())\n",
    "print('Значение стандартного отклонения: ', statistics.pstdev(df['time_spend_company'].dropna()))\n",
    "print('Размах выборки: ', max(df['time_spend_company'])-min(df['time_spend_company']))\n",
    "\n",
    "plt.hist(df['time_spend_company'],8)\n",
    "plt.xlabel('интервал выборки')\n",
    "plt.ylabel('количество элементов')\n",
    "plt.title('Частотный график выборки time_spend_company')\n",
    "plt.grid(True)\n",
    "plt.show()\n",
    "\n",
    "print('Сколько времени сотрудник поработал в компании, данные цифровые, целочисленные, дискретные, распределение геометрическое')\n"
   ]
  },
  {
   "cell_type": "code",
   "execution_count": 9,
   "metadata": {},
   "outputs": [
    {
     "name": "stdout",
     "output_type": "stream",
     "text": [
      "Среднее значение:  0.1446096406427095\n",
      "Медиана:  0\n",
      "Значение моды: 0\n",
      "Значение максимума:  1\n",
      "Значение минимума:  0\n",
      "Количество нулевых значений в столбце равно: 0\n",
      "Значение стандартного отклонения:  0.3517068274513532\n",
      "Размах выборки:  1\n"
     ]
    },
    {
     "data": {
      "image/png": "[encoded data removed]",
      "text/plain": [
       "<Figure size 432x288 with 1 Axes>"
      ]
     },
     "metadata": {},
     "output_type": "display_data"
    },
    {
     "name": "stdout",
     "output_type": "stream",
     "text": [
      "Информация о наличии инцидентов на работе, данные логические (булевы), распределение Бернулли\n"
     ]
    }
   ],
   "source": [
    "\n",
    "# Столбец 6\tWork_accident\n",
    "\n",
    "print('Среднее значение: ', statistics.mean(df['Work_accident']))\n",
    "print('Медиана: ', statistics.median(df['Work_accident']))\n",
    "print('Значение моды:', statistics.mode(df['Work_accident']))\n",
    "print('Значение максимума: ', max(df['Work_accident']))\n",
    "print('Значение минимума: ', min(df['Work_accident']))\n",
    "print('Количество нулевых значений в столбце равно:', df['Work_accident'].isnull().sum())\n",
    "print('Значение стандартного отклонения: ', statistics.pstdev(df['Work_accident'].dropna()))\n",
    "print('Размах выборки: ', max(df['Work_accident'])-min(df['Work_accident']))\n",
    "\n",
    "plt.hist(df['Work_accident'])\n",
    "plt.xlabel('интервал выборки')\n",
    "plt.ylabel('количество элементов')\n",
    "plt.title('Частотный график выборки Work_accident')\n",
    "plt.grid(True)\n",
    "plt.show()\n",
    "\n",
    "print('Информация о наличии инцидентов на работе, данные логические (булевы), распределение Бернулли')\n",
    "\n"
   ]
  },
  {
   "cell_type": "code",
   "execution_count": 10,
   "metadata": {},
   "outputs": [
    {
     "name": "stdout",
     "output_type": "stream",
     "text": [
      "Среднее значение:  0.2380825388359224\n",
      "Медиана:  0\n",
      "Значение моды: 0\n",
      "Значение максимума:  1\n",
      "Значение минимума:  0\n",
      "Количество нулевых значений в столбце равно: 0\n",
      "Значение стандартного отклонения:  0.42590990072709495\n",
      "Размах выборки:  1\n"
     ]
    },
    {
     "data": {
      "image/png": "[encoded data removed]",
      "text/plain": [
       "<Figure size 432x288 with 1 Axes>"
      ]
     },
     "metadata": {},
     "output_type": "display_data"
    },
    {
     "name": "stdout",
     "output_type": "stream",
     "text": [
      "Информация об уходе из компании, данные логические (булевы), распределение Бернулли\n"
     ]
    }
   ],
   "source": [
    "# Столбец 7 \tleft\n",
    "\n",
    "print('Среднее значение: ', statistics.mean(df['left']))\n",
    "print('Медиана: ', statistics.median(df['left']))\n",
    "print('Значение моды:', statistics.mode(df['left']))\n",
    "print('Значение максимума: ', max(df['left']))\n",
    "print('Значение минимума: ', min(df['left']))\n",
    "print('Количество нулевых значений в столбце равно:', df['left'].isnull().sum())\n",
    "print('Значение стандартного отклонения: ', statistics.pstdev(df['left'].dropna()))\n",
    "print('Размах выборки: ', max(df['left'])-min(df['left']))\n",
    "\n",
    "plt.hist(df['left'],10)\n",
    "plt.xlabel('интервал выборки')\n",
    "plt.ylabel('количество элементов')\n",
    "plt.title('Частотный график выборки left')\n",
    "plt.grid(True)\n",
    "plt.show()\n",
    "\n",
    "print('Информация об уходе из компании, данные логические (булевы), распределение Бернулли')\n"
   ]
  },
  {
   "cell_type": "code",
   "execution_count": 11,
   "metadata": {},
   "outputs": [
    {
     "name": "stdout",
     "output_type": "stream",
     "text": [
      "Среднее значение:  0.021268084538969265\n",
      "Медиана:  0\n",
      "Значение моды: 0\n",
      "Значение максимума:  1\n",
      "Значение минимума:  0\n",
      "Количество нулевых значений в столбце равно: 0\n",
      "Значение стандартного отклонения:  0.14427665479561314\n",
      "Размах выборки:  1\n"
     ]
    },
    {
     "data": {
      "image/png": "[encoded data removed]",
      "text/plain": [
       "<Figure size 432x288 with 1 Axes>"
      ]
     },
     "metadata": {},
     "output_type": "display_data"
    },
    {
     "name": "stdout",
     "output_type": "stream",
     "text": [
      "Информация о повышении за последние 5 лет, данные логические (булевы), распределение Бернулли\n"
     ]
    }
   ],
   "source": [
    "# Столбец 8\tpromotion_last_5years\n",
    "\n",
    "print('Среднее значение: ', statistics.mean(df['promotion_last_5years']))\n",
    "print('Медиана: ', statistics.median(df['promotion_last_5years']))\n",
    "print('Значение моды:', statistics.mode(df['promotion_last_5years']))\n",
    "print('Значение максимума: ', max(df['promotion_last_5years']))\n",
    "print('Значение минимума: ', min(df['promotion_last_5years']))\n",
    "print('Количество нулевых значений в столбце равно:', df['promotion_last_5years'].isnull().sum())\n",
    "print('Значение стандартного отклонения: ', statistics.pstdev(df['promotion_last_5years'].dropna()))\n",
    "print('Размах выборки: ', max(df['promotion_last_5years'])-min(df['promotion_last_5years']))\n",
    "\n",
    "plt.hist(df['promotion_last_5years'],10)\n",
    "plt.xlabel('интервал выборки')\n",
    "plt.ylabel('количество элементов')\n",
    "plt.title('Частотный график выборки promotion_last_5years')\n",
    "plt.grid(True)\n",
    "plt.show()\n",
    "\n",
    "print('Информация о повышении за последние 5 лет, данные логические (булевы), распределение Бернулли')\n"
   ]
  },
  {
   "cell_type": "code",
   "execution_count": null,
   "metadata": {},
   "outputs": [
    {
     "name": "stdout",
     "output_type": "stream",
     "text": [
      "Медиана:  sales\n",
      "Значение моды: sales\n",
      "Значение максимума:  technical\n",
      "Значение минимума:  IT\n",
      "Количество нулевых значений в столбце равно: 0\n"
     ]
    }
   ],
   "source": [
    "# Столбец 9\tsales\n",
    "\n",
    "# print('Среднее значение: ', statistics.mean(df['sales']))\n",
    "print('Медиана: ', statistics.median(df['sales']))\n",
    "print('Значение моды:', statistics.mode(df['sales']))\n",
    "print('Значение максимума: ', max(df['sales']))\n",
    "print('Значение минимума: ', min(df['sales']))\n",
    "print('Количество нулевых значений в столбце равно:', df['sales'].isnull().sum())\n",
    "# print('Значение стандартного отклонения: ', statistics.pstdev(df['sales'].dropna()))\n",
    "# print('Размах выборки: ', max(df['sales'])-min(df['sales']))\n",
    "\n",
    "plt.hist(df['sales'],10)\n",
    "plt.xlabel('интервал выборки')\n",
    "plt.ylabel('количество элементов')\n",
    "plt.title('Частотный график выборки sales')\n",
    "plt.grid(True)\n",
    "plt.show()\n",
    "\n",
    "print('Информация  о сфере работы, данные текстовые, дискретные')\n"
   ]
  },
  {
   "cell_type": "code",
   "execution_count": null,
   "metadata": {},
   "outputs": [],
   "source": [
    "# Столбец 10\tsalary\n",
    "\n",
    "# print('Среднее значение: ', statistics.mean(df['salary']))\n",
    "# print('Медиана: ', statistics.median(df['salary']))\n",
    "# print('Значение моды:', statistics.mode(df['salary']))\n",
    "# print('Значение максимума: ', max(df['salary']))\n",
    "# print('Значение минимума: ', min(df['salary']))\n",
    "# print('Количество нулевых значений в столбце равно:', df['salary'].isnull().sum())\n",
    "# print('Значение стандартного отклонения: ', statistics.pstdev(df['salary'].dropna()))\n",
    "# print('Размах выборки: ', max(df['salary'])-min(df['salary']))\n",
    "\n",
    "# plt.hist(df['salary'],10)\n",
    "# plt.xlabel('интервал выборки')\n",
    "# plt.ylabel('количество элементов')\n",
    "# plt.title('Частотный график выборки salary')\n",
    "# plt.grid(True)\n",
    "# plt.show()\n",
    "\n",
    "print('Информация об уровне продаж, данные текстовые, дискретные')\n"
   ]
  },
  {
   "cell_type": "code",
   "execution_count": null,
   "metadata": {},
   "outputs": [],
   "source": [
    "# 3.Рассчитать и визуализировать корреляционную матрицу для переменных.print('вот и матрица корреляций')\n",
    "df.corr()\n",
    "print('Матрица корреляций в виде таблицы. Выявлено не так много сильных корреляций между значениями\\nОднако кое-что есть, например отрицательная связь между уровнем удовлевторённости и уходом из компании')"
   ]
  },
  {
   "cell_type": "code",
   "execution_count": null,
   "metadata": {},
   "outputs": [],
   "source": [
    "sns.heatmap(df.corr(),annot=True,cmap='RdYlGn',linewidths=0.2) #data.corr()-->correlation matrix\n",
    "fig=plt.gcf()\n",
    "fig.set_size_inches(12,12)\n",
    "plt.show()"
   ]
  },
  {
   "cell_type": "code",
   "execution_count": null,
   "metadata": {},
   "outputs": [],
   "source": [
    "# 4.Визуализировать несколько взаимосвязей между переменными.\n",
    "df1 = df.dropna()\n",
    "sns_plot = sns.pairplot(df1)\n",
    "print('Сначала черновик: нарисовал матрицу ковариаций попарно - кривую и косую)')"
   ]
  },
  {
   "cell_type": "code",
   "execution_count": null,
   "metadata": {},
   "outputs": [],
   "source": [
    "plt.scatter(df.satisfaction_level, df.last_evaluation)\n",
    "\n"
   ]
  },
  {
   "cell_type": "code",
   "execution_count": null,
   "metadata": {},
   "outputs": [],
   "source": [
    "# 5.С использованием t-test статистики проверить взаимосвязи между несколькими переменными.\n",
    "from scipy.stats import ttest_ind\n",
    "ttest_ind(df['satisfaction_level'], df['last_evaluation'])"
   ]
  },
  {
   "cell_type": "code",
   "execution_count": null,
   "metadata": {},
   "outputs": [],
   "source": [
    "# 6.Рассчитать сколько работников работает в каждом департаменте.\n",
    "\n",
    "# фильтруем таблицу, удаляя всех уволившихся\n",
    "df_noleft = df[df['left'] == 0]\n",
    "\n",
    "# пересчитываем оставшихся\n",
    "df_noleft['sales'].value_counts()"
   ]
  },
  {
   "cell_type": "code",
   "execution_count": null,
   "metadata": {},
   "outputs": [],
   "source": [
    "# 7.Показать распределение сотрудников по зарплатам.\n",
    "# группируем и отрезаем ненужные столбцы\n",
    "df_salary = df_noleft.groupby('salary').count().loc[:, :'satisfaction_level']\n",
    "\n",
    "# немного подправляем оформление, индексы не обновляем\n",
    "df_salary = df_salary.reindex([\"low\", \"medium\", \"high\"])\n",
    "df_salary=df_salary.rename(columns = {'satisfaction_level':'number of employees'})\n",
    "df_salary.head()"
   ]
  },
  {
   "cell_type": "code",
   "execution_count": null,
   "metadata": {},
   "outputs": [],
   "source": [
    "df_salary.plot.bar()"
   ]
  },
  {
   "cell_type": "code",
   "execution_count": null,
   "metadata": {},
   "outputs": [],
   "source": [
    "df2 = df.loc[:, : 'sales']\n",
    "df2.head()"
   ]
  },
  {
   "cell_type": "code",
   "execution_count": null,
   "metadata": {},
   "outputs": [],
   "source": [
    "# 9.Сколько сотрудников покинули компанию.\n",
    "# считаем длину отфильтрованного дата-фрейма\n",
    "print(\"Число покинувших компанию сотрудников равно: \",len(df[df['left'] == 1]))\n"
   ]
  },
  {
   "cell_type": "code",
   "execution_count": null,
   "metadata": {},
   "outputs": [],
   "source": [
    "\n",
    "\n",
    "3.Рассчитать и визуализировать корреляционную матрицу для переменных.\n",
    "4.Визуализировать несколько взаимосвязей между переменными.\n",
    "5.С использованием t-test статистики проверить взаимосвязи между несколькими переменными.\n",
    "6.Рассчитать сколько работников работает в каждом департаменте.\n",
    "7.Показать распределение сотрудников по зарплатам.\n",
    "8.Показать распределение сотрудников по зарплатам совместно с департаментами.\n",
    "9.Сколько сотрудников покинули компанию.\n",
    "10.Проверить несколько гипотез для данных, чтобы понять почему сотрудники покидают компанию.\n",
    "11.Загрузить результат (в формате .ipynb ноутбука) в репозиторий. Разместить ссылку на репозиторий в Личном кабинете"
   ]
  }
 ],
 "metadata": {
  "kernelspec": {
   "display_name": "Python 3",
   "language": "python",
   "name": "python3"
  },
  "language_info": {
   "codemirror_mode": {
    "name": "ipython",
    "version": 3
   },
   "file_extension": ".py",
   "mimetype": "text/x-python",
   "name": "python",
   "nbconvert_exporter": "python",
   "pygments_lexer": "ipython3",
   "version": "3.6.5"
  }
 },
 "nbformat": 4,
 "nbformat_minor": 2
}
