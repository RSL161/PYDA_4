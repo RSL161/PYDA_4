{
 "cells": [
  {
   "cell_type": "code",
   "execution_count": 8,
   "metadata": {},
   "outputs": [
    {
     "data": {
      "text/plain": [
       "['2018-01-01',\n",
       " '2018-01-02',\n",
       " '2018-01-03',\n",
       " '2018-01-04',\n",
       " '2018-01-05',\n",
       " '2018-01-06',\n",
       " '2018-01-07']"
      ]
     },
     "execution_count": 8,
     "metadata": {},
     "output_type": "execute_result"
    }
   ],
   "source": [
    "#Задание 1\n",
    "#Напишите функцию date_range, которая возвращает список дней между датами start_date и end_date. \n",
    "#Даты должны вводиться в формате YYYY-MM-DD.\n",
    "\n",
    "from datetime import datetime\n",
    "from datetime import timedelta\n",
    "\n",
    "def data_range(start_date,end_date):\n",
    "    result = list()\n",
    "    start_date_dt = datetime.strptime(start_date, '%Y-%m-%d')\n",
    "    end_date_dt = datetime.strptime(end_date, '%Y-%m-%d')\n",
    "    current_dt = start_date_dt\n",
    "    while current_dt <= end_date_dt:\n",
    "        result.append(current_dt.strftime('%Y-%m-%d'))\n",
    "        current_dt += timedelta(days=1)\n",
    "    return result\n",
    "\n",
    "data_range('2018-01-01', '2018-01-07')\n",
    "\n",
    "\n",
    "\n"
   ]
  },
  {
   "cell_type": "code",
   "execution_count": 30,
   "metadata": {},
   "outputs": [
    {
     "name": "stdout",
     "output_type": "stream",
     "text": [
      "Warning! bad date sequence\n"
     ]
    },
    {
     "data": {
      "text/plain": [
       "[]"
      ]
     },
     "execution_count": 30,
     "metadata": {},
     "output_type": "execute_result"
    }
   ],
   "source": [
    "#Задание 2\n",
    "#Дополните функцию из первого задания проверкой на корректность дат. \n",
    "#В случае неверного формата или если start_date > end_date должен возвращаться пустой список.\n",
    "\n",
    "from datetime import datetime\n",
    "from datetime import timedelta\n",
    "\n",
    "def data_range_2(start_date,end_date):\n",
    "    result = list()\n",
    "    try:\n",
    "        start_date_dt = datetime.strptime(start_date, '%Y-%m-%d')\n",
    "    except:\n",
    "        print('Warning! bad date format')\n",
    "        return result         \n",
    "    try:      \n",
    "        end_date_dt = datetime.strptime(end_date, '%Y-%m-%d')\n",
    "    except:\n",
    "        print('Warning! bad date format')\n",
    "        return result\n",
    "    if start_date_dt > end_date_dt:\n",
    "        print('Warning! bad date sequence')\n",
    "        return result\n",
    "    current_dt = start_date_dt\n",
    "    while current_dt <= end_date_dt:\n",
    "        result.append(current_dt.strftime('%Y-%m-%d'))\n",
    "        current_dt += timedelta(days=1)\n",
    "    return result\n",
    "\n",
    "data_range_2('2019-01-01', '2018-12-08')\n",
    "\n"
   ]
  },
  {
   "cell_type": "code",
   "execution_count": 52,
   "metadata": {},
   "outputs": [
    {
     "name": "stdout",
     "output_type": "stream",
     "text": [
      "True\n",
      "False\n",
      "False\n"
     ]
    }
   ],
   "source": [
    "#Задание 3\n",
    "#Дан поток дат в формате YYYY-MM-DD, в которых встречаются некорректные значения:\n",
    "\n",
    "#Напишите функцию, которая проверяет эти даты на корректность. \n",
    "#Т. е. для каждой даты возвращает True (дата корректна) или False (некорректная дата).\n",
    "\n",
    "stream = ['2018-04-02', '2018-02-29', '2018-19-02']\n",
    "\n",
    "def date_check(date_string, target_format = '%Y-%m-%d'):\n",
    "    try:\n",
    "        date_dt = datetime.strptime(date_string, target_format)\n",
    "    except:\n",
    "        return False\n",
    "    if int(date_dt.strftime('%Y')) in range (0,2020):\n",
    "        return True\n",
    "    else:\n",
    "        return False\n",
    "\n",
    "for step in stream:\n",
    "    print(date_check(step))\n",
    "    "
   ]
  },
  {
   "cell_type": "code",
   "execution_count": 84,
   "metadata": {},
   "outputs": [
    {
     "name": "stdout",
     "output_type": "stream",
     "text": [
      "2018-02-01 00:00:00\n",
      "2019-06-01 23:36:36.090056\n"
     ]
    },
    {
     "data": {
      "text/plain": [
       "['2019-06-01',\n",
       " '2019-06-02',\n",
       " '2019-06-03',\n",
       " '2019-06-04',\n",
       " '2019-06-05',\n",
       " '2019-06-06',\n",
       " '2019-06-07',\n",
       " '2019-06-08',\n",
       " '2019-06-09',\n",
       " '2019-06-10']"
      ]
     },
     "execution_count": 84,
     "metadata": {},
     "output_type": "execute_result"
    }
   ],
   "source": [
    "#Задание 4\n",
    "#Напишите функцию, которая возвращает список дат с 1 по вчерашний день текущего месяца. \n",
    "#Если дан 1 день месяца, то возвращается список дней прошлого месяца.\n",
    "\n",
    "'''\n",
    "написал сначала универсальный вариант для отлова исключений\n",
    "'''\n",
    "\n",
    "def day_generator_universal(date_string):\n",
    "    from datetime import timedelta\n",
    "    result = list()\n",
    "#    current_dt = datetime.now()\n",
    "    current_dt = datetime.strptime(date_string, '%Y-%m-%d')\n",
    "    if current_dt.strftime('%d') == '01':\n",
    "        if current_dt.strftime('%m') == '01':\n",
    "            start_date_dt = current_dt.replace(year=current_dt.year-1,month=12)\n",
    "        else:\n",
    "            start_date_dt = current_dt.replace(year=current_dt.year,month=((int(current_dt.month))-1%12))           \n",
    "        print(start_date_dt)\n",
    "    else:\n",
    "        start_date_dt = current_dt.replace(day=1)\n",
    "        print(start_date_dt)\n",
    "    while start_date_dt < current_dt:\n",
    "        result.append(start_date_dt.strftime('%Y-%m-%d'))\n",
    "        start_date_dt += timedelta(days=1)\n",
    "    return result\n",
    "\n",
    "def day_generator_now():\n",
    "    from datetime import timedelta\n",
    "    result = list()\n",
    "    current_dt = datetime.now()\n",
    "    if current_dt.strftime('%d') == '01':\n",
    "        if current_dt.strftime('%m') == '01':\n",
    "            start_date_dt = current_dt.replace(year=current_dt.year-1,month=12)\n",
    "        else:\n",
    "            start_date_dt = current_dt.replace(year=current_dt.year,month=((int(current_dt.month))-1%12))           \n",
    "        print(start_date_dt)\n",
    "    else:\n",
    "        start_date_dt = current_dt.replace(day=1)\n",
    "        print(start_date_dt)\n",
    "    while start_date_dt < current_dt:\n",
    "        result.append(start_date_dt.strftime('%Y-%m-%d'))\n",
    "        start_date_dt += timedelta(days=1)\n",
    "    return result\n",
    "\n",
    "    \n",
    "day_generator_universal('2018-02-15')\n",
    "day_generator_now()"
   ]
  },
  {
   "cell_type": "code",
   "execution_count": null,
   "metadata": {},
   "outputs": [],
   "source": []
  },
  {
   "cell_type": "code",
   "execution_count": null,
   "metadata": {},
   "outputs": [],
   "source": []
  }
 ],
 "metadata": {
  "kernelspec": {
   "display_name": "Python 3",
   "language": "python",
   "name": "python3"
  },
  "language_info": {
   "codemirror_mode": {
    "name": "ipython",
    "version": 3
   },
   "file_extension": ".py",
   "mimetype": "text/x-python",
   "name": "python",
   "nbconvert_exporter": "python",
   "pygments_lexer": "ipython3",
   "version": "3.6.5"
  }
 },
 "nbformat": 4,
 "nbformat_minor": 2
}
