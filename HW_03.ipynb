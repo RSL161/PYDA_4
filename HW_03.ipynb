{
 "cells": [
  {
   "cell_type": "code",
   "execution_count": null,
   "metadata": {},
   "outputs": [],
   "source": [
    "#задание 1 Напишите функцию, которая возвращает сумму элементов на диагонали. Т. е. 13+32+23+35.\n",
    "\n",
    "data = [\n",
    "[13, 25, 23, 34],\n",
    "[45, 32, 44, 47],\n",
    "[12, 33, 23, 95],\n",
    "[13, 53, 34, 35],\n",
    "]\n",
    "def diagonal_summator(square_data):\n",
    "  result = 0\n",
    "  for step in range(0,len(square_data)):\n",
    "    result += square_data[step][step]\n",
    "  return result\n",
    "\n",
    "print(diagonal_summator(data))"
   ]
  },
  {
   "cell_type": "code",
   "execution_count": 1,
   "metadata": {},
   "outputs": [
    {
     "name": "stdout",
     "output_type": "stream",
     "text": [
      "430\n"
     ]
    }
   ],
   "source": [
    "#задание 2 Дан список чисел, часть из которых имеют строковый тип или содержат буквы. Напишите функцию, которая возвращает сумму квадратов элементов, которые могут быть числами.\n",
    "data = [1, '5', 'abc', 20, '2']\n",
    "\n",
    "def list_summator(data_list):\n",
    "  result = 0\n",
    "  for step in range(0,len(data_list)):\n",
    "    if str((data_list[step])).isdigit(): \n",
    "      result += int(data_list[step])**2\n",
    "  return result   \n",
    "\n",
    "print(list_summator(data))\n"
   ]
  },
  {
   "cell_type": "code",
   "execution_count": 4,
   "metadata": {},
   "outputs": [],
   "source": [
    "#Задание 3 Напишите функцию, которая возвращает название валюты (поле ‘Name’) с максимальным значением курса с помощью сервиса https://www.cbr-xml-daily.ru/daily_json.js\n",
    "\n",
    "import requests\n",
    "\n",
    "class Rate:\n",
    "    def __init__(self, format='value'):\n",
    "        self.format = format\n",
    "    \n",
    "    def exchange_rates(self):\n",
    "        \"\"\"\n",
    "        Возвращает ответ сервиса с информацией о валютах в виде:\n",
    "        \n",
    "        {\n",
    "            'AMD': {\n",
    "                'CharCode': 'AMD',\n",
    "                'ID': 'R01060',\n",
    "                'Name': 'Армянских драмов',\n",
    "                'Nominal': 100,\n",
    "                'NumCode': '051',\n",
    "                'Previous': 14.103,\n",
    "                'Value': 14.0879\n",
    "                },\n",
    "            ...\n",
    "        }\n",
    "        \"\"\"\n",
    "        r = requests.get('https://www.cbr-xml-daily.ru/daily_json.js')\n",
    "        return r.json()['Valute']\n",
    "    \n",
    "    def make_format(self, currency):\n",
    "        \"\"\"\n",
    "        Возвращает информацию о валюте currency в двух вариантах:\n",
    "        - полная информация о валюте при self.format = 'full':\n",
    "        Rate('full').make_format('EUR')\n",
    "        {\n",
    "            'CharCode': 'EUR',\n",
    "            'ID': 'R01239',\n",
    "            'Name': 'Евро',\n",
    "            'Nominal': 1,\n",
    "            'NumCode': '978',\n",
    "            'Previous': 79.6765,\n",
    "            'Value': 79.4966\n",
    "        }\n",
    "        \n",
    "        Rate('value').make_format('EUR')\n",
    "        79.4966\n",
    "        \"\"\"\n",
    "        response = self.exchange_rates()\n",
    "        \n",
    "        if currency in response:\n",
    "            if self.format == 'full':\n",
    "                return response[currency]\n",
    "            \n",
    "            if self.format == 'value':\n",
    "                return response[currency]['Value']\n",
    "        \n",
    "        return 'Error'\n",
    "    \n",
    "    def eur(self):\n",
    "        \"\"\"Возвращает курс евро на сегодня в формате self.format\"\"\"\n",
    "        return self.make_format('EUR')\n",
    "    \n",
    "    def usd(self):\n",
    "        \"\"\"Возвращает курс доллара на сегодня в формате self.format\"\"\"\n",
    "        return self.make_format('USD')"
   ]
  },
  {
   "cell_type": "code",
   "execution_count": 19,
   "metadata": {},
   "outputs": [
    {
     "data": {
      "text/plain": [
       "'СДР (специальные права заимствования)'"
      ]
     },
     "execution_count": 19,
     "metadata": {},
     "output_type": "execute_result"
    }
   ],
   "source": [
    "import requests\n",
    "curr = Rate()\n",
    "a = curr.exchange_rates()\n",
    "\n",
    "def get_maximum(data_object):\n",
    "    maximum_value = 0\n",
    "    result_currency = ''\n",
    "    for currency in data_object:\n",
    "        if data_object[currency]['Value']/data_object[currency]['Nominal'] > maximum_value:\n",
    "            maximum_value = data_object[currency]['Value']/data_object[currency]['Nominal']\n",
    "            result_currency = currency\n",
    "    return data_object[result_currency]['Name']\n",
    "\n",
    "get_maximum(a)"
   ]
  },
  {
   "cell_type": "code",
   "execution_count": 52,
   "metadata": {},
   "outputs": [
    {
     "data": {
      "text/plain": [
       "-0.2476000000000056"
      ]
     },
     "execution_count": 52,
     "metadata": {},
     "output_type": "execute_result"
    }
   ],
   "source": [
    "\n",
    "#Задание 4 Последнее упражнение с занятия\n",
    "\n",
    "#Добавьте в класс еще один формат, который возвращает название валюты (например, ‘Евро’).\n",
    "\n",
    "#Добавьте в класс параметр diff (со значениями True или False), который в случае значения True в методах eur и usd будет возвращать не курс валюты, а изменение по сравнению в прошлым значением.\n",
    "\n",
    "\n",
    "import requests\n",
    "\n",
    "class Rate:\n",
    "    def __init__(self, format='value', diff='True'):\n",
    "        self.format = format\n",
    "        self.diff = diff\n",
    "    \n",
    "    def exchange_rates(self):\n",
    "        \"\"\"\n",
    "        Возвращает ответ сервиса с информацией о валютах в виде:\n",
    "        \n",
    "        {\n",
    "            'AMD': {\n",
    "                'CharCode': 'AMD',\n",
    "                'ID': 'R01060',\n",
    "                'Name': 'Армянских драмов',\n",
    "                'Nominal': 100,\n",
    "                'NumCode': '051',\n",
    "                'Previous': 14.103,\n",
    "                'Value': 14.0879\n",
    "                },\n",
    "            ...\n",
    "        }\n",
    "        \"\"\"\n",
    "        r = requests.get('https://www.cbr-xml-daily.ru/daily_json.js')\n",
    "        return r.json()['Valute']\n",
    "    \n",
    "    def make_format(self, currency):\n",
    "        \"\"\"\n",
    "        Возвращает информацию о валюте currency в двух вариантах:\n",
    "        - полная информация о валюте при self.format = 'full':\n",
    "        Rate('full').make_format('EUR')\n",
    "        {\n",
    "            'CharCode': 'EUR',\n",
    "            'ID': 'R01239',\n",
    "            'Name': 'Евро',\n",
    "            'Nominal': 1,\n",
    "            'NumCode': '978',\n",
    "            'Previous': 79.6765,\n",
    "            'Value': 79.4966\n",
    "        }\n",
    "        \n",
    "        Rate('value').make_format('EUR')\n",
    "        79.4966\n",
    "        \"\"\"\n",
    "        response = self.exchange_rates()\n",
    "        \n",
    "        if currency in response:\n",
    "            if self.format == 'full':\n",
    "                return response[currency]\n",
    "            \n",
    "            if self.format == 'value':\n",
    "                return response[currency]['Value']\n",
    "        \n",
    "        return 'Error'\n",
    "    \n",
    "    def eur(self):\n",
    "        \"\"\"Возвращает курс евро на сегодня в формате self.format\"\"\"\n",
    "        if self.diff:\n",
    "            return self.make_format('EUR')\n",
    "        else:\n",
    "            response = self.exchange_rates()\n",
    "            return response['EUR']['Value']-response['EUR']['Previous']\n",
    "    \n",
    "    def usd(self):\n",
    "        \"\"\"Возвращает курс доллара на сегодня в формате self.format\"\"\"\n",
    "        if self.diff:\n",
    "            return self.make_format('USD')\n",
    "        else:\n",
    "            response = self.exchange_rates()\n",
    "            return response['USD']['Value']-response['USD']['Previous']\n",
    "    \n",
    "    def get_currency_name(self, currency):\n",
    "        \"\"\"Возвращает название валюты\"\"\"\n",
    "        response = self.exchange_rates()\n",
    "        return response[currency]['Name']\n",
    "        \n",
    "\n",
    "curr2 = Rate()\n",
    "curr2.get_currency_name('USD')\n",
    "curr2.eur()\n",
    "curr2.usd()\n",
    "curr2.diff = False\n",
    "curr2.eur()\n",
    "curr2.usd()"
   ]
  },
  {
   "cell_type": "code",
   "execution_count": 31,
   "metadata": {},
   "outputs": [
    {
     "name": "stdout",
     "output_type": "stream",
     "text": [
      "91\n"
     ]
    }
   ],
   "source": [
    "#Задание 5 Напишите функцию, возвращающую сумму первых n чисел Фибоначчи\n",
    "def F(n):\n",
    "    if n == 0: return 0\n",
    "    elif n == 1: return 1\n",
    "    else: return F(n-1)+F(n-2)\n",
    "\n",
    "def F_summator(n):\n",
    "  result = 0\n",
    "  for step in range (0,n):\n",
    "    result += F(n)\n",
    "  return result    \n",
    "\n",
    "print(F_summator(7))\n"
   ]
  },
  {
   "cell_type": "code",
   "execution_count": 3,
   "metadata": {},
   "outputs": [
    {
     "name": "stdout",
     "output_type": "stream",
     "text": [
      "{'cpc': 100}\n",
      "{'yandex': 'cpc'}\n",
      "{'2018-01-01': 'yandex'}\n",
      "{}\n"
     ]
    }
   ],
   "source": [
    "# Задание 6 Напишите функцию, преобразующую произвольный список вида [‘2018-01-01’, ‘yandex’, ‘cpc’, 100] в словарь {‘2018-01-01’: {‘yandex’: {‘cpc’: 100}}}\n",
    "\n",
    "string_list = ['2018-01-01', 'yandex', 'cpc', 100]\n",
    "\n",
    "def dict_creator_dual(a, b):\n",
    "  result = {a: b}\n",
    "  return result\n",
    "\n",
    "def dict_creator(data_list):\n",
    "  result = {}\n",
    "  for step in range(0,len(data_list)-1):\n",
    "#    result = {data_list[len(data_list)-2]: data_list[len(data_list)-1]}\n",
    "#    print(dict_creator_dual[data_list[len(data_list)-2]], data_list[len(data_list)-1)\n",
    "    print(dict_creator_dual(data_list[len(data_list)-2-step], data_list[len(data_list)-1-step]))\n",
    "  return result\n",
    "\n",
    "\n",
    "print(dict_creator(string_list))\n",
    "\n"
   ]
  },
  {
   "cell_type": "code",
   "execution_count": null,
   "metadata": {},
   "outputs": [],
   "source": []
  }
 ],
 "metadata": {
  "kernelspec": {
   "display_name": "Python 3",
   "language": "python",
   "name": "python3"
  },
  "language_info": {
   "codemirror_mode": {
    "name": "ipython",
    "version": 3
   },
   "file_extension": ".py",
   "mimetype": "text/x-python",
   "name": "python",
   "nbconvert_exporter": "python",
   "pygments_lexer": "ipython3",
   "version": "3.6.5"
  }
 },
 "nbformat": 4,
 "nbformat_minor": 2
}
